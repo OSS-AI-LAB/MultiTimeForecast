{
 "cells": [
  {
   "cell_type": "markdown",
   "id": "aa4dc20b",
   "metadata": {},
   "source": [
    "# TimesFM 통신사 손익전망 분석\n",
    "\n",
    "이 노트북은 통신사의 5G, LTE, 3G 데이터를 분석하여 손익전망을 예측합니다.\n",
    "\n",
    "## 📋 목차\n",
    "1. 환경 설정 및 라이브러리 import\n",
    "2. 데이터 로드 및 검증\n",
    "3. 데이터 전처리 및 탐색적 분석\n",
    "4. 모델 훈련 및 예측\n",
    "5. 결과 시각화 및 분석\n",
    "6. 비즈니스 인사이트 도출"
   ]
  },
  {
   "cell_type": "markdown",
   "id": "31efb246",
   "metadata": {},
   "source": [
    "## 1. 환경 설정 및 라이브러리 import"
   ]
  },
  {
   "cell_type": "markdown",
   "id": "225c0842",
   "metadata": {},
   "source": [
    "## 2. 데이터 로드 및 검증"
   ]
  },
  {
   "cell_type": "markdown",
   "id": "43eab817",
   "metadata": {},
   "source": [
    "## 3. 데이터 전처리 및 탐색적 분석"
   ]
  },
  {
   "cell_type": "markdown",
   "id": "b6096700",
   "metadata": {},
   "source": [
    "## 4. 모델 훈련 및 예측"
   ]
  },
  {
   "cell_type": "markdown",
   "id": "a324e5b4",
   "metadata": {},
   "source": [
    "## 5. 결과 시각화 및 분석"
   ]
  },
  {
   "cell_type": "markdown",
   "id": "8da946db",
   "metadata": {},
   "source": [
    "## 6. 비즈니스 인사이트 도출"
   ]
  },
  {
   "cell_type": "markdown",
   "id": "142e869d",
   "metadata": {},
   "source": [
    "## 📝 결론\n",
    "\n",
    "이 노트북을 통해 통신사의 기술별 사용자 수와 수익성을 예측하고, 전략적 인사이트를 도출했습니다.\n",
    "\n",
    "### 주요 결과:\n",
    "- 📊 기술별 사용자 수 예측\n",
    "- 💰 수익성 전망 분석\n",
    "- 🎯 전략적 권장사항 도출\n",
    "\n",
    "### 다음 단계:\n",
    "1. 📁 `results/` 폴더에서 상세한 결과 파일 확인\n",
    "2. 📊 대화형 대시보드 (`interactive_dashboard.html`) 활용\n",
    "3. 📈 정기적인 모델 업데이트 및 재훈련\n",
    "4. 🎯 비즈니스 전략에 예측 결과 반영\n",
    "\n",
    "---\n",
    "**참고**: 더 자세한 사용법은 `USER_GUIDE.md` 파일을 참고하세요."
   ]
  },
  {
   "cell_type": "code",
   "execution_count": 1,
   "id": "d88c3e8e",
   "metadata": {},
   "outputs": [
    {
     "name": "stdout",
     "output_type": "stream",
     "text": [
      "✅ 라이브러리 import 완료\n"
     ]
    }
   ],
   "source": [
    "# 필요한 라이브러리 import\n",
    "import pandas as pd\n",
    "import numpy as np\n",
    "import matplotlib.pyplot as plt\n",
    "import seaborn as sns\n",
    "import warnings\n",
    "warnings.filterwarnings('ignore')\n",
    "\n",
    "# 프로젝트 모듈 import\n",
    "import sys\n",
    "sys.path.append('../src')\n",
    "\n",
    "from data_processing import TelecomDataProcessor\n",
    "from forecasting import TelecomForecaster\n",
    "\n",
    "# 한글 폰트 설정 (한글 출력 시)\n",
    "plt.rcParams['font.family'] = 'DejaVu Sans'\n",
    "plt.rcParams['figure.figsize'] = (12, 6)\n",
    "\n",
    "print(\"✅ 라이브러리 import 완료\")"
   ]
  },
  {
   "cell_type": "code",
   "execution_count": null,
   "id": "696d8517",
   "metadata": {},
   "outputs": [],
   "source": [
    "# 데이터 로더 생성\n",
    "processor = TelecomDataProcessor()\n",
    "\n",
    "# 데이터 파일 경로 설정 (실제 파일명으로 변경하세요)\n",
    "file_path = '../data/raw/your_telecom_data.xlsx'  # 여기에 실제 파일명 입력\n",
    "\n",
    "print(f\"📁 데이터 파일 경로: {file_path}\")\n",
    "\n",
    "# 파일 존재 확인\n",
    "import os\n",
    "if os.path.exists(file_path):\n",
    "    print(\"✅ 파일 존재 확인\")\n",
    "else:\n",
    "    print(f\"❌ 파일을 찾을 수 없습니다: {file_path}\")\n",
    "    print(\"📝 data/raw/ 폴더에 엑셀 파일을 넣고 경로를 수정하세요.\")"
   ]
  },
  {
   "cell_type": "code",
   "execution_count": null,
   "id": "1a70ba72",
   "metadata": {},
   "outputs": [],
   "source": [
    "# 데이터 로드\n",
    "try:\n",
    "    df = processor.load_data(file_path)\n",
    "    print(\"✅ 데이터 로드 완료\")\n",
    "    print(f\"📊 데이터 크기: {df.shape}\")\n",
    "    print(f\"📅 기간: {df['date'].min()} ~ {df['date'].max()}\")\n",
    "except Exception as e:\n",
    "    print(f\"❌ 데이터 로드 실패: {e}\")\n",
    "    print(\"📝 파일 경로와 형식을 확인하세요.\")"
   ]
  },
  {
   "cell_type": "code",
   "execution_count": null,
   "id": "c267c67f",
   "metadata": {},
   "outputs": [],
   "source": [
    "# 데이터 검증\n",
    "if 'df' in locals():\n",
    "    is_valid = processor.validate_data(df)\n",
    "    if is_valid:\n",
    "        print(\"✅ 데이터 검증 통과\")\n",
    "        \n",
    "        # 데이터 미리보기\n",
    "        print(\"\\n📋 데이터 미리보기:\")\n",
    "        display(df.head())\n",
    "        \n",
    "        print(\"\\n📊 데이터 정보:\")\n",
    "        print(df.info())\n",
    "        \n",
    "        print(\"\\n🔍 결측치 확인:\")\n",
    "        print(df.isnull().sum())\n",
    "    else:\n",
    "        print(\"❌ 데이터 검증 실패\")\n",
    "        print(\"📝 USER_GUIDE.md 파일을 참고하여 데이터 형식을 확인하세요.\")"
   ]
  },
  {
   "cell_type": "code",
   "execution_count": null,
   "id": "bf7e4fd8",
   "metadata": {},
   "outputs": [],
   "source": [
    "# 데이터 정리 및 전처리\n",
    "if 'df' in locals() and processor.validate_data(df):\n",
    "    print(\"🔄 데이터 전처리 시작...\")\n",
    "    \n",
    "    # 데이터 정리\n",
    "    df_clean = processor.clean_data(df)\n",
    "    print(\"✅ 데이터 정리 완료\")\n",
    "    \n",
    "    # 특성 생성\n",
    "    df_features = processor.create_features(df_clean)\n",
    "    print(\"✅ 특성 생성 완료\")\n",
    "    \n",
    "    print(f\"📊 전처리된 데이터 크기: {df_features.shape}\")\n",
    "    print(\"\\n📋 전처리된 데이터 미리보기:\")\n",
    "    display(df_features.head())"
   ]
  },
  {
   "cell_type": "code",
   "execution_count": null,
   "id": "0fde1ebd",
   "metadata": {},
   "outputs": [],
   "source": [
    "# 기술별 사용자 수 추이 시각화\n",
    "if 'df_features' in locals():\n",
    "    plt.figure(figsize=(14, 8))\n",
    "    \n",
    "    plt.subplot(2, 2, 1)\n",
    "    plt.plot(df_features['date'], df_features['5g_users'], label='5G', linewidth=2)\n",
    "    plt.plot(df_features['date'], df_features['lte_users'], label='LTE', linewidth=2)\n",
    "    plt.plot(df_features['date'], df_features['3g_users'], label='3G', linewidth=2)\n",
    "    plt.title('기술별 사용자 수 추이', fontsize=14, fontweight='bold')\n",
    "    plt.xlabel('날짜')\n",
    "    plt.ylabel('사용자 수')\n",
    "    plt.legend()\n",
    "    plt.grid(True, alpha=0.3)\n",
    "    \n",
    "    plt.subplot(2, 2, 2)\n",
    "    plt.plot(df_features['date'], df_features['5g_revenue'], label='5G', linewidth=2)\n",
    "    plt.plot(df_features['date'], df_features['lte_revenue'], label='LTE', linewidth=2)\n",
    "    plt.plot(df_features['date'], df_features['3g_revenue'], label='3G', linewidth=2)\n",
    "    plt.title('기술별 매출 추이', fontsize=14, fontweight='bold')\n",
    "    plt.xlabel('날짜')\n",
    "    plt.ylabel('매출')\n",
    "    plt.legend()\n",
    "    plt.grid(True, alpha=0.3)\n",
    "    \n",
    "    plt.subplot(2, 2, 3)\n",
    "    plt.plot(df_features['date'], df_features['profit'], label='총 이익', linewidth=2, color='green')\n",
    "    plt.title('총 이익 추이', fontsize=14, fontweight='bold')\n",
    "    plt.xlabel('날짜')\n",
    "    plt.ylabel('이익')\n",
    "    plt.legend()\n",
    "    plt.grid(True, alpha=0.3)\n",
    "    \n",
    "    plt.subplot(2, 2, 4)\n",
    "    plt.plot(df_features['date'], df_features['profit_margin'], label='이익률', linewidth=2, color='red')\n",
    "    plt.title('이익률 추이', fontsize=14, fontweight='bold')\n",
    "    plt.xlabel('날짜')\n",
    "    plt.ylabel('이익률 (%)')\n",
    "    plt.legend()\n",
    "    plt.grid(True, alpha=0.3)\n",
    "    \n",
    "    plt.tight_layout()\n",
    "    plt.show()"
   ]
  },
  {
   "cell_type": "code",
   "execution_count": null,
   "id": "19e1f194",
   "metadata": {},
   "outputs": [],
   "source": [
    "# 예측기 생성 및 설정\n",
    "if 'df_features' in locals():\n",
    "    print(\"🤖 모델 훈련 시작...\")\n",
    "    \n",
    "    # 예측기 생성\n",
    "    forecaster = TelecomForecaster()\n",
    "    \n",
    "    # 예측 설정\n",
    "    target_columns = ['5g_users', 'lte_users', '3g_users']\n",
    "    forecast_steps = 12  # 12개월 예측\n",
    "    \n",
    "    print(f\"🎯 예측 대상: {target_columns}\")\n",
    "    print(f\"📅 예측 기간: {forecast_steps}개월\")\n",
    "    \n",
    "    # GPU 사용 가능 여부 확인\n",
    "    import torch\n",
    "    if torch.cuda.is_available():\n",
    "        print(\"🚀 GPU 사용 가능 - 빠른 훈련 예상\")\n",
    "    else:\n",
    "        print(\"💻 CPU 사용 - 훈련 시간이 오래 걸릴 수 있습니다\")"
   ]
  },
  {
   "cell_type": "code",
   "execution_count": null,
   "id": "1e8c9b44",
   "metadata": {},
   "outputs": [],
   "source": [
    "# 전체 파이프라인 실행\n",
    "if 'forecaster' in locals() and 'file_path' in locals():\n",
    "    try:\n",
    "        print(\"🔄 예측 파이프라인 실행 중...\")\n",
    "        print(\"⏰ 시간이 오래 걸릴 수 있습니다. 잠시 기다려주세요...\")\n",
    "        \n",
    "        results = forecaster.run_full_pipeline(\n",
    "            file_path=file_path,\n",
    "            target_columns=target_columns,\n",
    "            forecast_steps=forecast_steps\n",
    "        )\n",
    "        \n",
    "        print(\"✅ 예측 완료!\")\n",
    "        print(f\"📁 결과 파일이 results/ 폴더에 저장되었습니다.\")\n",
    "        \n",
    "    except Exception as e:\n",
    "        print(f\"❌ 예측 실패: {e}\")\n",
    "        print(\"📝 데이터 형식과 파일 경로를 다시 확인하세요.\")"
   ]
  },
  {
   "cell_type": "code",
   "execution_count": null,
   "id": "731e1f24",
   "metadata": {},
   "outputs": [],
   "source": [
    "# 예측 결과 확인\n",
    "if 'results' in locals():\n",
    "    print(\"📊 예측 결과 분석\")\n",
    "    \n",
    "    # 예측 결과 미리보기\n",
    "    if 'forecast' in results:\n",
    "        print(\"\\n🔮 예측 결과 미리보기:\")\n",
    "        display(results['forecast'].head())\n",
    "        \n",
    "        print(f\"\\n📅 예측 기간: {results['forecast'].index[0]} ~ {results['forecast'].index[-1]}\")\n",
    "        \n",
    "    # 수익성 분석 결과\n",
    "    if 'profitability' in results:\n",
    "        print(\"\\n💰 수익성 분석 결과:\")\n",
    "        display(results['profitability'].head())"
   ]
  },
  {
   "cell_type": "code",
   "execution_count": null,
   "id": "259b80bb",
   "metadata": {},
   "outputs": [],
   "source": [
    "# 예측 결과 시각화\n",
    "if 'results' in locals() and 'forecast' in results:\n",
    "    # 기술별 사용자 수 예측\n",
    "    plt.figure(figsize=(15, 10))\n",
    "    \n",
    "    # 과거 데이터와 예측 데이터 결합\n",
    "    historical = df_features[['date'] + target_columns].set_index('date')\n",
    "    forecast = results['forecast'][target_columns]\n",
    "    \n",
    "    # 시각화\n",
    "    for i, col in enumerate(target_columns, 1):\n",
    "        plt.subplot(3, 1, i)\n",
    "        \n",
    "        # 과거 데이터\n",
    "        plt.plot(historical.index, historical[col], label='과거 데이터', linewidth=2)\n",
    "        \n",
    "        # 예측 데이터\n",
    "        plt.plot(forecast.index, forecast[col], label='예측 데이터', linewidth=2, linestyle='--', color='red')\n",
    "        \n",
    "        plt.title(f'{col.upper()} 사용자 수 예측', fontsize=14, fontweight='bold')\n",
    "        plt.xlabel('날짜')\n",
    "        plt.ylabel('사용자 수')\n",
    "        plt.legend()\n",
    "        plt.grid(True, alpha=0.3)\n",
    "    \n",
    "    plt.tight_layout()\n",
    "    plt.show()"
   ]
  },
  {
   "cell_type": "code",
   "execution_count": null,
   "id": "489c9a0b",
   "metadata": {},
   "outputs": [],
   "source": [
    "# 예측 결과 분석 및 인사이트\n",
    "if 'results' in locals() and 'forecast' in results:\n",
    "    print(\"💡 비즈니스 인사이트 분석\")\n",
    "    print(\"=\" * 50)\n",
    "    \n",
    "    # 기술별 성장률 분석\n",
    "    latest_actual = df_features.iloc[-1]\n",
    "    latest_forecast = results['forecast'].iloc[-1]\n",
    "    \n",
    "    for tech in ['5g', 'lte', '3g']:\n",
    "        actual_users = latest_actual[f'{tech}_users']\n",
    "        forecast_users = latest_forecast[f'{tech}_users']\n",
    "        growth_rate = ((forecast_users - actual_users) / actual_users) * 100\n",
    "        \n",
    "        print(f\"\\n📱 {tech.upper()} 기술:\")\n",
    "        print(f\"   현재 사용자: {actual_users:,.0f}명\")\n",
    "        print(f\"   12개월 후 예상: {forecast_users:,.0f}명\")\n",
    "        print(f\"   예상 성장률: {growth_rate:+.1f}%\")\n",
    "        \n",
    "        if growth_rate > 10:\n",
    "            print(f\"   💚 강한 성장 예상 - 투자 확대 권장\")\n",
    "        elif growth_rate > 0:\n",
    "            print(f\"   📈 안정적 성장 예상 - 유지 관리\")\n",
    "        else:\n",
    "            print(f\"   ⚠️ 감소 예상 - 전략 재검토 필요\")"
   ]
  },
  {
   "cell_type": "code",
   "execution_count": null,
   "id": "b8abda1a",
   "metadata": {},
   "outputs": [],
   "source": [
    "# 전략적 권장사항\n",
    "if 'results' in locals():\n",
    "    print(\"\\n🎯 전략적 권장사항\")\n",
    "    print(\"=\" * 50)\n",
    "    \n",
    "    print(\"\\n📡 5G 전략:\")\n",
    "    print(\"   ✅ 5G 투자 확대 및 마케팅 강화\")\n",
    "    print(\"   ✅ 신규 서비스 개발 및 고객 유치\")\n",
    "    \n",
    "    print(\"\\n📶 LTE 전략:\")\n",
    "    print(\"   📊 LTE 안정적 운영 유지\")\n",
    "    print(\"   📊 비용 최적화 및 효율성 개선\")\n",
    "    \n",
    "    print(\"\\n📱 3G 전략:\")\n",
    "    print(\"   🔄 3G 서비스 점진적 축소 계획\")\n",
    "    print(\"   🔄 사용자 이전 프로그램 강화\")\n",
    "    \n",
    "    print(\"\\n💰 수익성 개선 방안:\")\n",
    "    print(\"   📈 ARPU 향상을 위한 부가서비스 개발\")\n",
    "    print(\"   📈 고객 충성도 프로그램 강화\")\n",
    "    print(\"   📈 네트워크 효율성 개선으로 비용 절감\")\n",
    "    print(\"   📈 신규 수익 모델 발굴\")"
   ]
  }
 ],
 "metadata": {
  "kernelspec": {
   "display_name": "Python 3 (ipykernel)",
   "language": "python",
   "name": "python3"
  },
  "language_info": {
   "codemirror_mode": {
    "name": "ipython",
    "version": 3
   },
   "file_extension": ".py",
   "mimetype": "text/x-python",
   "name": "python",
   "nbconvert_exporter": "python",
   "pygments_lexer": "ipython3",
   "version": "3.11.9"
  }
 },
 "nbformat": 4,
 "nbformat_minor": 5
}
